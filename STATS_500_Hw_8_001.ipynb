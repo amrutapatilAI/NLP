{
  "nbformat": 4,
  "nbformat_minor": 0,
  "metadata": {
    "colab": {
      "provenance": [],
      "authorship_tag": "ABX9TyNYOmqYFfZYzvMF+i1VZg4L",
      "include_colab_link": true
    },
    "kernelspec": {
      "name": "ir",
      "display_name": "R"
    },
    "language_info": {
      "name": "R"
    }
  },
  "cells": [
    {
      "cell_type": "markdown",
      "metadata": {
        "id": "view-in-github",
        "colab_type": "text"
      },
      "source": [
        "<a href=\"https://colab.research.google.com/github/prathamesh0902/natural-language-processing/blob/STATS-500/STATS_500_Hw_8_001.ipynb\" target=\"_parent\"><img src=\"https://colab.research.google.com/assets/colab-badge.svg\" alt=\"Open In Colab\"/></a>"
      ]
    },
    {
      "cell_type": "markdown",
      "source": [
        "## **Prathamesh Joshi**\n",
        "STATS 500-Hw 8\n",
        "\n",
        "**Problem 1**"
      ],
      "metadata": {
        "id": "wpEPBhVwCCIq"
      }
    },
    {
      "cell_type": "code",
      "execution_count": 1,
      "metadata": {
        "colab": {
          "base_uri": "https://localhost:8080/"
        },
        "id": "_1134O2xBYzq",
        "outputId": "648f08a2-0253-46bf-a19e-995d18013a61"
      },
      "outputs": [
        {
          "output_type": "stream",
          "name": "stderr",
          "text": [
            "Installing package into ‘/usr/local/lib/R/site-library’\n",
            "(as ‘lib’ is unspecified)\n",
            "\n",
            "also installing the dependencies ‘minqa’, ‘nloptr’, ‘Rcpp’, ‘RcppEigen’, ‘lme4’\n",
            "\n",
            "\n"
          ]
        }
      ],
      "source": [
        "install.packages(\"faraway\")\n",
        "library(faraway)"
      ]
    },
    {
      "cell_type": "code",
      "source": [
        "data(prostate)"
      ],
      "metadata": {
        "id": "UBmPWt4XessI"
      },
      "execution_count": 31,
      "outputs": []
    },
    {
      "cell_type": "code",
      "source": [
        "attach(prostate)"
      ],
      "metadata": {
        "id": "g9JuiEHHesch",
        "colab": {
          "base_uri": "https://localhost:8080/"
        },
        "outputId": "81a78122-dfc6-43c4-82ce-d26e22399b65"
      },
      "execution_count": 32,
      "outputs": [
        {
          "output_type": "stream",
          "name": "stderr",
          "text": [
            "The following objects are masked from prostate (pos = 4):\n",
            "\n",
            "    age, gleason, lbph, lcavol, lcp, lpsa, lweight, pgg45, svi\n",
            "\n",
            "\n"
          ]
        }
      ]
    },
    {
      "cell_type": "code",
      "source": [
        "#Backward Elimination\n",
        "mdl1_1 <- lm (lpsa ~ ., data = prostate)\n",
        "summary(mdl1_1)"
      ],
      "metadata": {
        "colab": {
          "base_uri": "https://localhost:8080/",
          "height": 451
        },
        "id": "8qwkPuMKYaZZ",
        "outputId": "0c01c4ed-1e65-41c0-99a4-8d31357f6298"
      },
      "execution_count": 33,
      "outputs": [
        {
          "output_type": "display_data",
          "data": {
            "text/plain": [
              "\n",
              "Call:\n",
              "lm(formula = lpsa ~ ., data = prostate)\n",
              "\n",
              "Residuals:\n",
              "    Min      1Q  Median      3Q     Max \n",
              "-1.7331 -0.3713 -0.0170  0.4141  1.6381 \n",
              "\n",
              "Coefficients:\n",
              "             Estimate Std. Error t value Pr(>|t|)    \n",
              "(Intercept)  0.669337   1.296387   0.516  0.60693    \n",
              "lcavol       0.587022   0.087920   6.677 2.11e-09 ***\n",
              "lweight      0.454467   0.170012   2.673  0.00896 ** \n",
              "age         -0.019637   0.011173  -1.758  0.08229 .  \n",
              "lbph         0.107054   0.058449   1.832  0.07040 .  \n",
              "svi          0.766157   0.244309   3.136  0.00233 ** \n",
              "lcp         -0.105474   0.091013  -1.159  0.24964    \n",
              "gleason      0.045142   0.157465   0.287  0.77503    \n",
              "pgg45        0.004525   0.004421   1.024  0.30886    \n",
              "---\n",
              "Signif. codes:  0 ‘***’ 0.001 ‘**’ 0.01 ‘*’ 0.05 ‘.’ 0.1 ‘ ’ 1\n",
              "\n",
              "Residual standard error: 0.7084 on 88 degrees of freedom\n",
              "Multiple R-squared:  0.6548,\tAdjusted R-squared:  0.6234 \n",
              "F-statistic: 20.86 on 8 and 88 DF,  p-value: < 2.2e-16\n"
            ]
          },
          "metadata": {}
        }
      ]
    },
    {
      "cell_type": "code",
      "source": [
        "mdl1_2 <- lm (lpsa ~ .-gleason, data = prostate)\n",
        "summary(mdl1_2)"
      ],
      "metadata": {
        "colab": {
          "base_uri": "https://localhost:8080/",
          "height": 434
        },
        "id": "hXcinL6wZerf",
        "outputId": "5e9e2da9-df9a-4445-f387-67b9c7e09988"
      },
      "execution_count": 34,
      "outputs": [
        {
          "output_type": "display_data",
          "data": {
            "text/plain": [
              "\n",
              "Call:\n",
              "lm(formula = lpsa ~ . - gleason, data = prostate)\n",
              "\n",
              "Residuals:\n",
              "     Min       1Q   Median       3Q      Max \n",
              "-1.73117 -0.38137 -0.01728  0.43364  1.63513 \n",
              "\n",
              "Coefficients:\n",
              "             Estimate Std. Error t value Pr(>|t|)    \n",
              "(Intercept)  0.953926   0.829439   1.150  0.25319    \n",
              "lcavol       0.591615   0.086001   6.879 8.07e-10 ***\n",
              "lweight      0.448292   0.167771   2.672  0.00897 ** \n",
              "age         -0.019336   0.011066  -1.747  0.08402 .  \n",
              "lbph         0.107671   0.058108   1.853  0.06720 .  \n",
              "svi          0.757734   0.241282   3.140  0.00229 ** \n",
              "lcp         -0.104482   0.090478  -1.155  0.25127    \n",
              "pgg45        0.005318   0.003433   1.549  0.12488    \n",
              "---\n",
              "Signif. codes:  0 ‘***’ 0.001 ‘**’ 0.01 ‘*’ 0.05 ‘.’ 0.1 ‘ ’ 1\n",
              "\n",
              "Residual standard error: 0.7048 on 89 degrees of freedom\n",
              "Multiple R-squared:  0.6544,\tAdjusted R-squared:  0.6273 \n",
              "F-statistic: 24.08 on 7 and 89 DF,  p-value: < 2.2e-16\n"
            ]
          },
          "metadata": {}
        }
      ]
    },
    {
      "cell_type": "code",
      "source": [
        "mdl1_3 <- lm (lpsa ~ .-gleason-1, data = prostate)\n",
        "summary(mdl1_3)"
      ],
      "metadata": {
        "colab": {
          "base_uri": "https://localhost:8080/",
          "height": 416
        },
        "id": "d6-ubWkDaTi2",
        "outputId": "5452e24a-dcb6-4efe-a615-443d23d56bfd"
      },
      "execution_count": 35,
      "outputs": [
        {
          "output_type": "display_data",
          "data": {
            "text/plain": [
              "\n",
              "Call:\n",
              "lm(formula = lpsa ~ . - gleason - 1, data = prostate)\n",
              "\n",
              "Residuals:\n",
              "     Min       1Q   Median       3Q      Max \n",
              "-1.74075 -0.34414 -0.02778  0.44634  1.66824 \n",
              "\n",
              "Coefficients:\n",
              "         Estimate Std. Error t value Pr(>|t|)    \n",
              "lcavol   0.583447   0.085861   6.795 1.14e-09 ***\n",
              "lweight  0.561360   0.136191   4.122 8.35e-05 ***\n",
              "age     -0.010697   0.008140  -1.314   0.1921    \n",
              "lbph     0.075592   0.051067   1.480   0.1423    \n",
              "svi      0.744926   0.241456   3.085   0.0027 ** \n",
              "lcp     -0.107324   0.090606  -1.185   0.2393    \n",
              "pgg45    0.005259   0.003438   1.530   0.1296    \n",
              "---\n",
              "Signif. codes:  0 ‘***’ 0.001 ‘**’ 0.01 ‘*’ 0.05 ‘.’ 0.1 ‘ ’ 1\n",
              "\n",
              "Residual standard error: 0.706 on 90 degrees of freedom\n",
              "Multiple R-squared:  0.938,\tAdjusted R-squared:  0.9332 \n",
              "F-statistic: 194.6 on 7 and 90 DF,  p-value: < 2.2e-16\n"
            ]
          },
          "metadata": {}
        }
      ]
    },
    {
      "cell_type": "code",
      "source": [
        "mdl1_4 <- lm (lpsa ~ .-gleason-lcp-1, data = prostate)\n",
        "summary(mdl1_4)"
      ],
      "metadata": {
        "colab": {
          "base_uri": "https://localhost:8080/",
          "height": 399
        },
        "id": "8n46kO0tZuYe",
        "outputId": "9b125aee-b00f-437e-c659-280235cfcee3"
      },
      "execution_count": 36,
      "outputs": [
        {
          "output_type": "display_data",
          "data": {
            "text/plain": [
              "\n",
              "Call:\n",
              "lm(formula = lpsa ~ . - gleason - lcp - 1, data = prostate)\n",
              "\n",
              "Residuals:\n",
              "     Min       1Q   Median       3Q      Max \n",
              "-1.78824 -0.38775 -0.01852  0.46156  1.54830 \n",
              "\n",
              "Coefficients:\n",
              "         Estimate Std. Error t value Pr(>|t|)    \n",
              "lcavol   0.536090   0.076153   7.040 3.54e-10 ***\n",
              "lweight  0.565737   0.136442   4.146 7.57e-05 ***\n",
              "age     -0.008535   0.007950  -1.074  0.28588    \n",
              "lbph     0.072718   0.051122   1.422  0.15832    \n",
              "svi      0.625252   0.219788   2.845  0.00549 ** \n",
              "pgg45    0.003417   0.003073   1.112  0.26911    \n",
              "---\n",
              "Signif. codes:  0 ‘***’ 0.001 ‘**’ 0.01 ‘*’ 0.05 ‘.’ 0.1 ‘ ’ 1\n",
              "\n",
              "Residual standard error: 0.7076 on 91 degrees of freedom\n",
              "Multiple R-squared:  0.937,\tAdjusted R-squared:  0.9329 \n",
              "F-statistic: 225.8 on 6 and 91 DF,  p-value: < 2.2e-16\n"
            ]
          },
          "metadata": {}
        }
      ]
    },
    {
      "cell_type": "code",
      "source": [
        "mdl1_5 <- lm (lpsa ~ .-gleason-lcp-age-1, data = prostate)\n",
        "summary(mdl1_5)"
      ],
      "metadata": {
        "colab": {
          "base_uri": "https://localhost:8080/",
          "height": 381
        },
        "id": "enNecrPlZ2R7",
        "outputId": "3531728d-2bb3-48a3-b33b-c33665bbb4d2"
      },
      "execution_count": 37,
      "outputs": [
        {
          "output_type": "display_data",
          "data": {
            "text/plain": [
              "\n",
              "Call:\n",
              "lm(formula = lpsa ~ . - gleason - lcp - age - 1, data = prostate)\n",
              "\n",
              "Residuals:\n",
              "    Min      1Q  Median      3Q     Max \n",
              "-1.7849 -0.3659  0.0221  0.4889  1.5907 \n",
              "\n",
              "Coefficients:\n",
              "        Estimate Std. Error t value Pr(>|t|)    \n",
              "lcavol  0.532963   0.076161   6.998 4.12e-10 ***\n",
              "lweight 0.423267   0.031706  13.350  < 2e-16 ***\n",
              "lbph    0.080258   0.050679   1.584  0.11670    \n",
              "svi     0.650832   0.218673   2.976  0.00373 ** \n",
              "pgg45   0.002580   0.002975   0.867  0.38805    \n",
              "---\n",
              "Signif. codes:  0 ‘***’ 0.001 ‘**’ 0.01 ‘*’ 0.05 ‘.’ 0.1 ‘ ’ 1\n",
              "\n",
              "Residual standard error: 0.7082 on 92 degrees of freedom\n",
              "Multiple R-squared:  0.9363,\tAdjusted R-squared:  0.9328 \n",
              "F-statistic: 270.2 on 5 and 92 DF,  p-value: < 2.2e-16\n"
            ]
          },
          "metadata": {}
        }
      ]
    },
    {
      "cell_type": "code",
      "source": [
        "mdl1_6 <- lm (lpsa ~ .-gleason-lcp-pgg45-age-1, data = prostate)\n",
        "summary(mdl1_6)"
      ],
      "metadata": {
        "colab": {
          "base_uri": "https://localhost:8080/",
          "height": 364
        },
        "id": "qTka4zS7Z8Zp",
        "outputId": "49735864-4770-449b-daec-707fa34a2ac1"
      },
      "execution_count": 38,
      "outputs": [
        {
          "output_type": "display_data",
          "data": {
            "text/plain": [
              "\n",
              "Call:\n",
              "lm(formula = lpsa ~ . - gleason - lcp - pgg45 - age - 1, data = prostate)\n",
              "\n",
              "Residuals:\n",
              "     Min       1Q   Median       3Q      Max \n",
              "-1.83071 -0.40081  0.03327  0.46199  1.49225 \n",
              "\n",
              "Coefficients:\n",
              "        Estimate Std. Error t value Pr(>|t|)    \n",
              "lcavol   0.54938    0.07367   7.457 4.55e-11 ***\n",
              "lweight  0.43062    0.03051  14.113  < 2e-16 ***\n",
              "lbph     0.08419    0.05041   1.670 0.098258 .  \n",
              "svi      0.70784    0.20828   3.398 0.000999 ***\n",
              "---\n",
              "Signif. codes:  0 ‘***’ 0.001 ‘**’ 0.01 ‘*’ 0.05 ‘.’ 0.1 ‘ ’ 1\n",
              "\n",
              "Residual standard error: 0.7072 on 93 degrees of freedom\n",
              "Multiple R-squared:  0.9357,\tAdjusted R-squared:  0.933 \n",
              "F-statistic: 338.5 on 4 and 93 DF,  p-value: < 2.2e-16\n"
            ]
          },
          "metadata": {}
        }
      ]
    },
    {
      "cell_type": "code",
      "source": [
        "mdl1_7 <- lm (lpsa ~ .-gleason-lcp-pgg45-age-lbph-1, data = prostate)\n",
        "summary(mdl1_7)"
      ],
      "metadata": {
        "colab": {
          "base_uri": "https://localhost:8080/",
          "height": 364
        },
        "id": "U9Wwj2oIaEeU",
        "outputId": "70f367d9-ea56-4b90-d005-01a9bf417a4c"
      },
      "execution_count": 39,
      "outputs": [
        {
          "output_type": "display_data",
          "data": {
            "text/plain": [
              "\n",
              "Call:\n",
              "lm(formula = lpsa ~ . - gleason - lcp - pgg45 - age - lbph - \n",
              "    1, data = prostate)\n",
              "\n",
              "Residuals:\n",
              "     Min       1Q   Median       3Q      Max \n",
              "-1.70579 -0.48587 -0.01677  0.45844  1.57123 \n",
              "\n",
              "Coefficients:\n",
              "        Estimate Std. Error t value Pr(>|t|)    \n",
              "lcavol   0.55246    0.07435   7.431  4.9e-11 ***\n",
              "lweight  0.43604    0.03063  14.237  < 2e-16 ***\n",
              "svi      0.66823    0.20889   3.199  0.00188 ** \n",
              "---\n",
              "Signif. codes:  0 ‘***’ 0.001 ‘**’ 0.01 ‘*’ 0.05 ‘.’ 0.1 ‘ ’ 1\n",
              "\n",
              "Residual standard error: 0.7139 on 94 degrees of freedom\n",
              "Multiple R-squared:  0.9338,\tAdjusted R-squared:  0.9317 \n",
              "F-statistic:   442 on 3 and 94 DF,  p-value: < 2.2e-16\n"
            ]
          },
          "metadata": {}
        }
      ]
    },
    {
      "cell_type": "code",
      "source": [
        "#AIC\n",
        "mdl2_1 <- lm (lpsa ~ ., data = prostate)\n",
        "step(mdl2_1)"
      ],
      "metadata": {
        "colab": {
          "base_uri": "https://localhost:8080/",
          "height": 1000
        },
        "id": "dNifpjUcbQXu",
        "outputId": "bd96418d-b431-468f-dba4-0a1f5777f501"
      },
      "execution_count": 40,
      "outputs": [
        {
          "output_type": "stream",
          "name": "stdout",
          "text": [
            "Start:  AIC=-58.32\n",
            "lpsa ~ lcavol + lweight + age + lbph + svi + lcp + gleason + \n",
            "    pgg45\n",
            "\n",
            "          Df Sum of Sq    RSS     AIC\n",
            "- gleason  1    0.0412 44.204 -60.231\n",
            "- pgg45    1    0.5258 44.689 -59.174\n",
            "- lcp      1    0.6740 44.837 -58.853\n",
            "<none>                 44.163 -58.322\n",
            "- age      1    1.5503 45.713 -56.975\n",
            "- lbph     1    1.6835 45.847 -56.693\n",
            "- lweight  1    3.5861 47.749 -52.749\n",
            "- svi      1    4.9355 49.099 -50.046\n",
            "- lcavol   1   22.3721 66.535 -20.567\n",
            "\n",
            "Step:  AIC=-60.23\n",
            "lpsa ~ lcavol + lweight + age + lbph + svi + lcp + pgg45\n",
            "\n",
            "          Df Sum of Sq    RSS     AIC\n",
            "- lcp      1    0.6623 44.867 -60.789\n",
            "<none>                 44.204 -60.231\n",
            "- pgg45    1    1.1920 45.396 -59.650\n",
            "- age      1    1.5166 45.721 -58.959\n",
            "- lbph     1    1.7053 45.910 -58.560\n",
            "- lweight  1    3.5462 47.750 -54.746\n",
            "- svi      1    4.8984 49.103 -52.037\n",
            "- lcavol   1   23.5039 67.708 -20.872\n",
            "\n",
            "Step:  AIC=-60.79\n",
            "lpsa ~ lcavol + lweight + age + lbph + svi + pgg45\n",
            "\n",
            "          Df Sum of Sq    RSS     AIC\n",
            "- pgg45    1    0.6590 45.526 -61.374\n",
            "<none>                 44.867 -60.789\n",
            "- age      1    1.2649 46.131 -60.092\n",
            "- lbph     1    1.6465 46.513 -59.293\n",
            "- lweight  1    3.5647 48.431 -55.373\n",
            "- svi      1    4.2503 49.117 -54.009\n",
            "- lcavol   1   25.4189 70.285 -19.248\n",
            "\n",
            "Step:  AIC=-61.37\n",
            "lpsa ~ lcavol + lweight + age + lbph + svi\n",
            "\n",
            "          Df Sum of Sq    RSS     AIC\n",
            "<none>                 45.526 -61.374\n",
            "- age      1    0.9592 46.485 -61.352\n",
            "- lbph     1    1.8568 47.382 -59.497\n",
            "- lweight  1    3.2251 48.751 -56.735\n",
            "- svi      1    5.9517 51.477 -51.456\n",
            "- lcavol   1   28.7665 74.292 -15.871\n"
          ]
        },
        {
          "output_type": "display_data",
          "data": {
            "text/plain": [
              "\n",
              "Call:\n",
              "lm(formula = lpsa ~ lcavol + lweight + age + lbph + svi, data = prostate)\n",
              "\n",
              "Coefficients:\n",
              "(Intercept)       lcavol      lweight          age         lbph          svi  \n",
              "    0.95100      0.56561      0.42369     -0.01489      0.11184      0.72095  \n"
            ]
          },
          "metadata": {}
        }
      ]
    },
    {
      "cell_type": "code",
      "source": [
        "#Adjusted R^2\n",
        "install.packages(\"leaps\")\n",
        "library(leaps)"
      ],
      "metadata": {
        "colab": {
          "base_uri": "https://localhost:8080/"
        },
        "id": "wJnJW4BVcAHY",
        "outputId": "0726fda6-9b99-481c-bd89-b74052ad2b86"
      },
      "execution_count": 41,
      "outputs": [
        {
          "output_type": "stream",
          "name": "stderr",
          "text": [
            "Installing package into ‘/usr/local/lib/R/site-library’\n",
            "(as ‘lib’ is unspecified)\n",
            "\n"
          ]
        }
      ]
    },
    {
      "cell_type": "code",
      "source": [
        "mdl3_1 <- regsubsets(lpsa ~ ., data= prostate)\n",
        "rs<- summary(mdl3_1)\n",
        "rs"
      ],
      "metadata": {
        "colab": {
          "base_uri": "https://localhost:8080/",
          "height": 416
        },
        "id": "aQxx_OqgcJnw",
        "outputId": "576140a9-256f-4c75-c719-6fdd0a42ab07"
      },
      "execution_count": 42,
      "outputs": [
        {
          "output_type": "display_data",
          "data": {
            "text/plain": [
              "Subset selection object\n",
              "Call: regsubsets.formula(lpsa ~ ., data = prostate)\n",
              "8 Variables  (and intercept)\n",
              "        Forced in Forced out\n",
              "lcavol      FALSE      FALSE\n",
              "lweight     FALSE      FALSE\n",
              "age         FALSE      FALSE\n",
              "lbph        FALSE      FALSE\n",
              "svi         FALSE      FALSE\n",
              "lcp         FALSE      FALSE\n",
              "gleason     FALSE      FALSE\n",
              "pgg45       FALSE      FALSE\n",
              "1 subsets of each size up to 8\n",
              "Selection Algorithm: exhaustive\n",
              "         lcavol lweight age lbph svi lcp gleason pgg45\n",
              "1  ( 1 ) \"*\"    \" \"     \" \" \" \"  \" \" \" \" \" \"     \" \"  \n",
              "2  ( 1 ) \"*\"    \"*\"     \" \" \" \"  \" \" \" \" \" \"     \" \"  \n",
              "3  ( 1 ) \"*\"    \"*\"     \" \" \" \"  \"*\" \" \" \" \"     \" \"  \n",
              "4  ( 1 ) \"*\"    \"*\"     \" \" \"*\"  \"*\" \" \" \" \"     \" \"  \n",
              "5  ( 1 ) \"*\"    \"*\"     \"*\" \"*\"  \"*\" \" \" \" \"     \" \"  \n",
              "6  ( 1 ) \"*\"    \"*\"     \"*\" \"*\"  \"*\" \" \" \" \"     \"*\"  \n",
              "7  ( 1 ) \"*\"    \"*\"     \"*\" \"*\"  \"*\" \"*\" \" \"     \"*\"  \n",
              "8  ( 1 ) \"*\"    \"*\"     \"*\" \"*\"  \"*\" \"*\" \"*\"     \"*\"  "
            ]
          },
          "metadata": {}
        }
      ]
    },
    {
      "cell_type": "code",
      "source": [
        "plot(2:9, rs$Adjusted, xlab = \"No of Parameters\", ylab = \"Adjusted R-squared\")"
      ],
      "metadata": {
        "colab": {
          "base_uri": "https://localhost:8080/",
          "height": 437
        },
        "id": "KXBQHyyucoy-",
        "outputId": "af6afc0f-698d-46ae-e953-d0e41b26ce6a"
      },
      "execution_count": 43,
      "outputs": [
        {
          "output_type": "display_data",
          "data": {
            "text/plain": [
              "plot without title"
            ],
            "image/png": "[encoded data removed]"
          },
          "metadata": {
            "image/png": {
              "width": 420,
              "height": 420
            }
          }
        }
      ]
    },
    {
      "cell_type": "code",
      "source": [
        "#Mallows\n",
        "plot(2:9, rs$cp, xlab = \"No of Parameters\", ylab = \"Cp\")\n",
        "abline(0,1)"
      ],
      "metadata": {
        "colab": {
          "base_uri": "https://localhost:8080/",
          "height": 437
        },
        "id": "tzif5JKbQCz8",
        "outputId": "671823bd-6bd5-4482-aea8-0b900ce76aa8"
      },
      "execution_count": 44,
      "outputs": [
        {
          "output_type": "display_data",
          "data": {
            "text/plain": [
              "plot without title"
            ],
            "image/png": "[encoded data removed]"
          },
          "metadata": {
            "image/png": {
              "width": 420,
              "height": 420
            }
          }
        }
      ]
    },
    {
      "cell_type": "markdown",
      "source": [
        "____________________________\n",
        "Problem 2"
      ],
      "metadata": {
        "id": "wLIVgu5nQ1In"
      }
    },
    {
      "cell_type": "code",
      "source": [
        "data(trees)"
      ],
      "metadata": {
        "id": "Fpzgrs-DQ5p_"
      },
      "execution_count": 45,
      "outputs": []
    },
    {
      "cell_type": "code",
      "source": [
        "#Using AIC\n",
        "mdl4 = lm(log(Volume) ~polym(Girth, Height, degree = 2), data = trees)\n",
        "rs2 <-summary(mdl4)"
      ],
      "metadata": {
        "id": "JpeyIR2ja5JF"
      },
      "execution_count": 54,
      "outputs": []
    },
    {
      "cell_type": "code",
      "source": [
        "rs2"
      ],
      "metadata": {
        "colab": {
          "base_uri": "https://localhost:8080/",
          "height": 416
        },
        "id": "6DgJV0JcbYU7",
        "outputId": "b3701530-f860-4c31-a4a9-7fb350670c70"
      },
      "execution_count": 47,
      "outputs": [
        {
          "output_type": "display_data",
          "data": {
            "text/plain": [
              "\n",
              "Call:\n",
              "lm(formula = log(Volume) ~ polym(Girth, Height, degree = 2), \n",
              "    data = trees)\n",
              "\n",
              "Residuals:\n",
              "      Min        1Q    Median        3Q       Max \n",
              "-0.159718 -0.041905 -0.003371  0.055167  0.133780 \n",
              "\n",
              "Coefficients:\n",
              "                                    Estimate Std. Error t value Pr(>|t|)    \n",
              "(Intercept)                          3.27472    0.02370 138.163  < 2e-16 ***\n",
              "polym(Girth, Height, degree = 2)1.0  2.51882    0.11972  21.039  < 2e-16 ***\n",
              "polym(Girth, Height, degree = 2)2.0 -0.24312    0.18449  -1.318    0.200    \n",
              "polym(Girth, Height, degree = 2)0.1  0.54249    0.11339   4.784 6.52e-05 ***\n",
              "polym(Girth, Height, degree = 2)1.1 -0.11845    1.08511  -0.109    0.914    \n",
              "polym(Girth, Height, degree = 2)0.2 -0.05025    0.10402  -0.483    0.633    \n",
              "---\n",
              "Signif. codes:  0 ‘***’ 0.001 ‘**’ 0.01 ‘*’ 0.05 ‘.’ 0.1 ‘ ’ 1\n",
              "\n",
              "Residual standard error: 0.08469 on 25 degrees of freedom\n",
              "Multiple R-squared:  0.9784,\tAdjusted R-squared:  0.9741 \n",
              "F-statistic: 226.7 on 5 and 25 DF,  p-value: < 2.2e-16\n"
            ]
          },
          "metadata": {}
        }
      ]
    },
    {
      "cell_type": "code",
      "source": [
        "plot(2:6, rs2$cp, xlab = \"No. Parameters\", ylab = \"Cp\")"
      ],
      "metadata": {
        "colab": {
          "base_uri": "https://localhost:8080/",
          "height": 437
        },
        "id": "nljPzGgkbdea",
        "outputId": "8065f034-cf82-43d8-85a3-4eb7c3d7afe7"
      },
      "execution_count": 48,
      "outputs": [
        {
          "output_type": "display_data",
          "data": {
            "text/plain": [
              "plot without title"
            ],
            "image/png": "[encoded data removed]"
          },
          "metadata": {
            "image/png": {
              "width": 420,
              "height": 420
            }
          }
        }
      ]
    },
    {
      "cell_type": "code",
      "source": [
        "#Using Mallow\n",
        "mdl5 <- lm(log(Volume) ~ Girth + Height + I(Girth^2), data = trees)\n",
        "summary(mdl5)"
      ],
      "metadata": {
        "colab": {
          "base_uri": "https://localhost:8080/",
          "height": 364
        },
        "id": "rHspAxKvbyuc",
        "outputId": "749c242a-c383-4cd9-ae77-9fdaab7e677a"
      },
      "execution_count": 49,
      "outputs": [
        {
          "output_type": "display_data",
          "data": {
            "text/plain": [
              "\n",
              "Call:\n",
              "lm(formula = log(Volume) ~ Girth + Height + I(Girth^2), data = trees)\n",
              "\n",
              "Residuals:\n",
              "      Min        1Q    Median        3Q       Max \n",
              "-0.174348 -0.043284 -0.000147  0.059198  0.138282 \n",
              "\n",
              "Coefficients:\n",
              "             Estimate Std. Error t value Pr(>|t|)    \n",
              "(Intercept) -0.783931   0.315182  -2.487  0.01935 *  \n",
              "Girth        0.285333   0.040960   6.966 1.74e-07 ***\n",
              "Height       0.015701   0.002759   5.690 4.80e-06 ***\n",
              "I(Girth^2)  -0.004954   0.001435  -3.451  0.00185 ** \n",
              "---\n",
              "Signif. codes:  0 ‘***’ 0.001 ‘**’ 0.01 ‘*’ 0.05 ‘.’ 0.1 ‘ ’ 1\n",
              "\n",
              "Residual standard error: 0.08208 on 27 degrees of freedom\n",
              "Multiple R-squared:  0.9781,\tAdjusted R-squared:  0.9757 \n",
              "F-statistic: 402.1 on 3 and 27 DF,  p-value: < 2.2e-16\n"
            ]
          },
          "metadata": {}
        }
      ]
    },
    {
      "cell_type": "code",
      "source": [],
      "metadata": {
        "id": "xUBn7gzab9A3"
      },
      "execution_count": 50,
      "outputs": []
    },
    {
      "cell_type": "code",
      "source": [],
      "metadata": {
        "id": "DyRkFLBLb84O"
      },
      "execution_count": 51,
      "outputs": []
    },
    {
      "cell_type": "code",
      "source": [],
      "metadata": {
        "id": "DoIoHC5Ob8ne"
      },
      "execution_count": 52,
      "outputs": []
    },
    {
      "cell_type": "code",
      "source": [],
      "metadata": {
        "id": "4lSXrgJsbxbS"
      },
      "execution_count": 53,
      "outputs": []
    }
  ]
}