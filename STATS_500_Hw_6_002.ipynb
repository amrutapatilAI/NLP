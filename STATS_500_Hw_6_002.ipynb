{
  "nbformat": 4,
  "nbformat_minor": 0,
  "metadata": {
    "colab": {
      "provenance": [],
      "authorship_tag": "ABX9TyORoLPgkHX0l56ngm6tPyyX",
      "include_colab_link": true
    },
    "kernelspec": {
      "name": "ir",
      "display_name": "R"
    },
    "language_info": {
      "name": "R"
    }
  },
  "cells": [
    {
      "cell_type": "markdown",
      "metadata": {
        "id": "view-in-github",
        "colab_type": "text"
      },
      "source": [
        "<a href=\"https://colab.research.google.com/github/prathamesh0902/natural-language-processing/blob/STATS-500/STATS_500_Hw_6_002.ipynb\" target=\"_parent\"><img src=\"https://colab.research.google.com/assets/colab-badge.svg\" alt=\"Open In Colab\"/></a>"
      ]
    },
    {
      "cell_type": "markdown",
      "source": [
        "## **Prathamesh Joshi**\n",
        "STATS 500-Hw 6\n",
        "\n",
        "**Problem 1**"
      ],
      "metadata": {
        "id": "wpEPBhVwCCIq"
      }
    },
    {
      "cell_type": "code",
      "execution_count": null,
      "metadata": {
        "colab": {
          "base_uri": "https://localhost:8080/"
        },
        "id": "_1134O2xBYzq",
        "outputId": "1255246e-52e9-4a76-e525-efc59a55de60"
      },
      "outputs": [
        {
          "output_type": "stream",
          "name": "stderr",
          "text": [
            "Installing package into ‘/usr/local/lib/R/site-library’\n",
            "(as ‘lib’ is unspecified)\n",
            "\n",
            "Warning message in install.packages(\"faraway\"):\n",
            "“installation of package ‘faraway’ had non-zero exit status”\n"
          ]
        }
      ],
      "source": [
        "install.packages(\"faraway\")\n",
        "library(faraway)"
      ]
    },
    {
      "cell_type": "code",
      "source": [
        "data(sat)"
      ],
      "metadata": {
        "id": "VSMz5dydB2iP"
      },
      "execution_count": null,
      "outputs": []
    },
    {
      "cell_type": "code",
      "source": [
        "#plot(sat)"
      ],
      "metadata": {
        "id": "h5ZcVDWOO5yv"
      },
      "execution_count": null,
      "outputs": []
    },
    {
      "cell_type": "code",
      "source": [
        "#Ordinary Least Square Method\n",
        "mdl1 <- lm(total ~ takers+ ratio+ salary+ expend, data = sat)\n",
        "summary(mdl1)"
      ],
      "metadata": {
        "colab": {
          "base_uri": "https://localhost:8080/",
          "height": 381
        },
        "id": "JJ-ES-ExPAV8",
        "outputId": "7406235b-e5b7-475c-d078-2d8d69954e86"
      },
      "execution_count": null,
      "outputs": [
        {
          "output_type": "display_data",
          "data": {
            "text/plain": [
              "\n",
              "Call:\n",
              "lm(formula = total ~ takers + ratio + salary + expend, data = sat)\n",
              "\n",
              "Residuals:\n",
              "    Min      1Q  Median      3Q     Max \n",
              "-90.531 -20.855  -1.746  15.979  66.571 \n",
              "\n",
              "Coefficients:\n",
              "             Estimate Std. Error t value Pr(>|t|)    \n",
              "(Intercept) 1045.9715    52.8698  19.784  < 2e-16 ***\n",
              "takers        -2.9045     0.2313 -12.559 2.61e-16 ***\n",
              "ratio         -3.6242     3.2154  -1.127    0.266    \n",
              "salary         1.6379     2.3872   0.686    0.496    \n",
              "expend         4.4626    10.5465   0.423    0.674    \n",
              "---\n",
              "Signif. codes:  0 ‘***’ 0.001 ‘**’ 0.01 ‘*’ 0.05 ‘.’ 0.1 ‘ ’ 1\n",
              "\n",
              "Residual standard error: 32.7 on 45 degrees of freedom\n",
              "Multiple R-squared:  0.8246,\tAdjusted R-squared:  0.809 \n",
              "F-statistic: 52.88 on 4 and 45 DF,  p-value: < 2.2e-16\n"
            ]
          },
          "metadata": {}
        }
      ]
    },
    {
      "cell_type": "markdown",
      "source": [
        "**Ans 1.a)**\n",
        "Here β0 and β1 are significant."
      ],
      "metadata": {
        "id": "slYoKHbWSzX7"
      }
    },
    {
      "cell_type": "code",
      "source": [
        "library(MASS)"
      ],
      "metadata": {
        "id": "SwB1ws9vPcq1"
      },
      "execution_count": null,
      "outputs": []
    },
    {
      "cell_type": "code",
      "source": [
        "#Least Absolute Deviations Method\n",
        "mdl3 <- rq(total ~ takers+ ratio+ salary+ expend, data = sat)\n",
        "summary(mdl3)"
      ],
      "metadata": {
        "colab": {
          "base_uri": "https://localhost:8080/",
          "height": 225
        },
        "id": "PtltbFfPQFI4",
        "outputId": "08d39014-2c3b-422c-9715-1c5d7e4095a9"
      },
      "execution_count": null,
      "outputs": [
        {
          "output_type": "display_data",
          "data": {
            "text/plain": [
              "\n",
              "Call: rq(formula = total ~ takers + ratio + salary + expend, data = sat)\n",
              "\n",
              "tau: [1] 0.5\n",
              "\n",
              "Coefficients:\n",
              "            coefficients lower bd   upper bd  \n",
              "(Intercept) 1090.89886    920.17149 1151.85075\n",
              "takers        -3.13961     -3.38485   -2.66479\n",
              "ratio         -7.26632    -10.73796    1.62341\n",
              "salary         3.18313     -0.15788    5.41909\n",
              "expend        -0.79753     -8.88001   20.92522"
            ]
          },
          "metadata": {}
        }
      ]
    },
    {
      "cell_type": "markdown",
      "source": [
        "**Ans 1.b)**\n",
        "For the Least Absolute Deviation model the coeffiecients for \"ratio\", \"salary\" and \"expend\" have 0 in their confidence interval. It states that the significance of these coefficients is low and hence β0 and β1 are significant. "
      ],
      "metadata": {
        "id": "2QBlRMFfudZp"
      }
    },
    {
      "cell_type": "code",
      "source": [
        "install.packages(\"quantreg\")\n",
        "library(quantreg)"
      ],
      "metadata": {
        "colab": {
          "base_uri": "https://localhost:8080/"
        },
        "id": "emYnpmxQPy8l",
        "outputId": "9b9bb7fd-9436-49e0-941a-7d614d45aff8"
      },
      "execution_count": null,
      "outputs": [
        {
          "output_type": "stream",
          "name": "stderr",
          "text": [
            "Installing package into ‘/usr/local/lib/R/site-library’\n",
            "(as ‘lib’ is unspecified)\n",
            "\n"
          ]
        }
      ]
    },
    {
      "cell_type": "code",
      "source": [
        "#Huber's Method\n",
        "mdl2 <- rlm(total ~ takers+ ratio+ salary+ expend, data = sat)\n",
        "summary(mdl2)"
      ],
      "metadata": {
        "colab": {
          "base_uri": "https://localhost:8080/",
          "height": 277
        },
        "id": "1tnmajILPfYJ",
        "outputId": "519298db-2f59-42d6-b042-a36a1f8e0c8c"
      },
      "execution_count": null,
      "outputs": [
        {
          "output_type": "display_data",
          "data": {
            "text/plain": [
              "\n",
              "Call: rlm(formula = total ~ takers + ratio + salary + expend, data = sat)\n",
              "Residuals:\n",
              "    Min      1Q  Median      3Q     Max \n",
              "-92.510 -17.701  -1.002  15.015  77.058 \n",
              "\n",
              "Coefficients:\n",
              "            Value     Std. Error t value  \n",
              "(Intercept) 1060.2074   49.8845    21.2533\n",
              "takers        -2.9778    0.2182   -13.6470\n",
              "ratio         -5.1254    3.0339    -1.6894\n",
              "salary         2.0933    2.2525     0.9293\n",
              "expend         3.9158    9.9510     0.3935\n",
              "\n",
              "Residual standard error: 25.58 on 45 degrees of freedom"
            ]
          },
          "metadata": {}
        }
      ]
    },
    {
      "cell_type": "code",
      "source": [
        "2 * pt(-(abs(21.2533)), 45)\n",
        "2 * pt(-(abs(-13.6470)), 45)\n",
        "2 * pt(-(abs(-1.6894)), 45)\n",
        "2 * pt(-(abs(0.9293)), 45)\n",
        "2 * pt(-(abs(0.3935)), 45)"
      ],
      "metadata": {
        "colab": {
          "base_uri": "https://localhost:8080/",
          "height": 104
        },
        "id": "8vOdb9WYrLuC",
        "outputId": "b926eb74-daef-4906-fef7-39f512989977"
      },
      "execution_count": null,
      "outputs": [
        {
          "output_type": "display_data",
          "data": {
            "text/html": [
              "4.24361389959165e-25"
            ],
            "text/markdown": "4.24361389959165e-25",
            "text/latex": "4.24361389959165e-25",
            "text/plain": [
              "[1] 4.243614e-25"
            ]
          },
          "metadata": {}
        },
        {
          "output_type": "display_data",
          "data": {
            "text/html": [
              "1.32907452144191e-17"
            ],
            "text/markdown": "1.32907452144191e-17",
            "text/latex": "1.32907452144191e-17",
            "text/plain": [
              "[1] 1.329075e-17"
            ]
          },
          "metadata": {}
        },
        {
          "output_type": "display_data",
          "data": {
            "text/html": [
              "0.098060880287284"
            ],
            "text/markdown": "0.098060880287284",
            "text/latex": "0.098060880287284",
            "text/plain": [
              "[1] 0.09806088"
            ]
          },
          "metadata": {}
        },
        {
          "output_type": "display_data",
          "data": {
            "text/html": [
              "0.357692034447825"
            ],
            "text/markdown": "0.357692034447825",
            "text/latex": "0.357692034447825",
            "text/plain": [
              "[1] 0.357692"
            ]
          },
          "metadata": {}
        },
        {
          "output_type": "display_data",
          "data": {
            "text/html": [
              "0.695808503448403"
            ],
            "text/markdown": "0.695808503448403",
            "text/latex": "0.695808503448403",
            "text/plain": [
              "[1] 0.6958085"
            ]
          },
          "metadata": {}
        }
      ]
    },
    {
      "cell_type": "markdown",
      "source": [
        "**Ans 1.c)** The p-values for β0 and β1 are < α (5%). Therefore they are significant."
      ],
      "metadata": {
        "id": "ove6dAXzskVW"
      }
    },
    {
      "cell_type": "markdown",
      "source": [
        "_____________________\n",
        "**Problem 2**"
      ],
      "metadata": {
        "id": "dX9TyTecm_S4"
      }
    },
    {
      "cell_type": "code",
      "source": [
        "data(cheddar)"
      ],
      "metadata": {
        "id": "eJQ3vxy-nDi6"
      },
      "execution_count": null,
      "outputs": []
    },
    {
      "cell_type": "code",
      "source": [
        "mdl5 <- lm(taste ~ . , data = cheddar)\n",
        "summary(mdl5)"
      ],
      "metadata": {
        "colab": {
          "base_uri": "https://localhost:8080/",
          "height": 364
        },
        "id": "NbFUVOVsnJ9W",
        "outputId": "2e1207d3-a207-4c27-899a-44ca8a66bb70"
      },
      "execution_count": null,
      "outputs": [
        {
          "output_type": "display_data",
          "data": {
            "text/plain": [
              "\n",
              "Call:\n",
              "lm(formula = taste ~ ., data = cheddar)\n",
              "\n",
              "Residuals:\n",
              "    Min      1Q  Median      3Q     Max \n",
              "-17.390  -6.612  -1.009   4.908  25.449 \n",
              "\n",
              "Coefficients:\n",
              "            Estimate Std. Error t value Pr(>|t|)   \n",
              "(Intercept) -28.8768    19.7354  -1.463  0.15540   \n",
              "Acetic        0.3277     4.4598   0.073  0.94198   \n",
              "H2S           3.9118     1.2484   3.133  0.00425 **\n",
              "Lactic       19.6705     8.6291   2.280  0.03108 * \n",
              "---\n",
              "Signif. codes:  0 ‘***’ 0.001 ‘**’ 0.01 ‘*’ 0.05 ‘.’ 0.1 ‘ ’ 1\n",
              "\n",
              "Residual standard error: 10.13 on 26 degrees of freedom\n",
              "Multiple R-squared:  0.6518,\tAdjusted R-squared:  0.6116 \n",
              "F-statistic: 16.22 on 3 and 26 DF,  p-value: 3.81e-06\n"
            ]
          },
          "metadata": {}
        }
      ]
    },
    {
      "cell_type": "code",
      "source": [
        "a <- seq(1,30)\n",
        "cheddar$time <- a\n",
        "#summary(cheddar)"
      ],
      "metadata": {
        "id": "3gDqsWRfo7bq"
      },
      "execution_count": null,
      "outputs": []
    },
    {
      "cell_type": "code",
      "source": [],
      "metadata": {
        "id": "yrcJ1poQbzZq"
      },
      "execution_count": null,
      "outputs": []
    },
    {
      "cell_type": "code",
      "source": [
        "#Ploting errors vs time\n",
        "plot(cheddar$time, (mdl5$residuals), col = \"purple\" )\n",
        "abline(0,0)\n",
        "abline(lm((mdl5$residuals)~cheddar$time),col = \"blue\", lwd = 3)"
      ],
      "metadata": {
        "colab": {
          "base_uri": "https://localhost:8080/",
          "height": 437
        },
        "id": "BFCWmOqNtpra",
        "outputId": "4f58fa51-81db-40d9-ed88-6e6c53371d88"
      },
      "execution_count": null,
      "outputs": [
        {
          "output_type": "display_data",
          "data": {
            "text/plain": [
              "plot without title"
            ],
            "image/png": "[encoded data removed]"
          },
          "metadata": {
            "image/png": {
              "width": 420,
              "height": 420
            }
          }
        }
      ]
    },
    {
      "cell_type": "markdown",
      "source": [
        "**Ans 2.a)**\n",
        "\n",
        "The plot shows that the errors vary according to time. Hence we may consider time as a parameter for the model."
      ],
      "metadata": {
        "id": "3rfk6kTcqlMN"
      }
    },
    {
      "cell_type": "code",
      "source": [
        "#Fit a GLS model \n",
        "library(nlme)\n",
        "mdl6 <- gls(taste ~ Acetic + H2S + Lactic, correlation = corAR1(form = ~time) , data = cheddar)\n",
        "summary(mdl6)"
      ],
      "metadata": {
        "colab": {
          "base_uri": "https://localhost:8080/",
          "height": 555
        },
        "id": "Mgc65PmDwCN1",
        "outputId": "c505537e-bfd7-4f25-ee45-615e2ef2d73c"
      },
      "execution_count": null,
      "outputs": [
        {
          "output_type": "display_data",
          "data": {
            "text/plain": [
              "Generalized least squares fit by REML\n",
              "  Model: taste ~ Acetic + H2S + Lactic \n",
              "  Data: cheddar \n",
              "     AIC      BIC  logLik\n",
              "  214.94 222.4886 -101.47\n",
              "\n",
              "Correlation Structure: AR(1)\n",
              " Formula: ~time \n",
              " Parameter estimate(s):\n",
              "      Phi \n",
              "0.2641944 \n",
              "\n",
              "Coefficients:\n",
              "                 Value Std.Error   t-value p-value\n",
              "(Intercept) -30.332472 20.273077 -1.496195  0.1466\n",
              "Acetic        1.436411  4.876581  0.294553  0.7707\n",
              "H2S           4.058880  1.314283  3.088284  0.0047\n",
              "Lactic       15.826468  9.235404  1.713674  0.0985\n",
              "\n",
              " Correlation: \n",
              "       (Intr) Acetic H2S   \n",
              "Acetic -0.899              \n",
              "H2S     0.424 -0.395       \n",
              "Lactic  0.063 -0.416 -0.435\n",
              "\n",
              "Standardized residuals:\n",
              "        Min          Q1         Med          Q3         Max \n",
              "-1.64546468 -0.63861716 -0.06641714  0.52255676  2.41323021 \n",
              "\n",
              "Residual standard error: 10.33276 \n",
              "Degrees of freedom: 30 total; 26 residual"
            ]
          },
          "metadata": {}
        }
      ]
    },
    {
      "cell_type": "code",
      "source": [
        "intervals(mdl6)"
      ],
      "metadata": {
        "colab": {
          "base_uri": "https://localhost:8080/",
          "height": 295
        },
        "id": "-XVfWL0VxhAk",
        "outputId": "aa4db6a0-3353-466d-953b-74dfbfb9a634"
      },
      "execution_count": null,
      "outputs": [
        {
          "output_type": "display_data",
          "data": {
            "text/plain": [
              "Approximate 95% confidence intervals\n",
              "\n",
              " Coefficients:\n",
              "                 lower       est.     upper\n",
              "(Intercept) -72.004379 -30.332472 11.339436\n",
              "Acetic       -8.587544   1.436411 11.460367\n",
              "H2S           1.357332   4.058880  6.760427\n",
              "Lactic       -3.157177  15.826468 34.810113\n",
              "\n",
              " Correlation structure:\n",
              "         lower      est.     upper\n",
              "Phi -0.1690759 0.2641944 0.6118917\n",
              "\n",
              " Residual standard error:\n",
              "    lower      est.     upper \n",
              " 7.626441 10.332756 13.999433 "
            ]
          },
          "metadata": {}
        }
      ]
    },
    {
      "cell_type": "markdown",
      "source": [
        "**Ans 2.b)**\n",
        "The phi values' confidence interval lies b/w 0.26 to 0.611. This does not have 0 in them. Therefore the errors are not collinear."
      ],
      "metadata": {
        "id": "-ftZAwy7JFKk"
      }
    },
    {
      "cell_type": "code",
      "source": [
        "#Fit a OLS model with time variable\n",
        "mdl7 <- lm(taste ~ . , data = cheddar)\n",
        "summary(mdl7)"
      ],
      "metadata": {
        "colab": {
          "base_uri": "https://localhost:8080/",
          "height": 381
        },
        "id": "SzzWBlchvlqw",
        "outputId": "d588df81-7499-4416-89a9-a5cd7f25cdd9"
      },
      "execution_count": null,
      "outputs": [
        {
          "output_type": "display_data",
          "data": {
            "text/plain": [
              "\n",
              "Call:\n",
              "lm(formula = taste ~ ., data = cheddar)\n",
              "\n",
              "Residuals:\n",
              "     Min       1Q   Median       3Q      Max \n",
              "-22.3523  -4.9735  -0.5089   4.8531  23.1311 \n",
              "\n",
              "Coefficients:\n",
              "            Estimate Std. Error t value Pr(>|t|)   \n",
              "(Intercept) -36.6127    17.9845  -2.036  0.05250 . \n",
              "Acetic        4.1275     4.2556   0.970  0.34139   \n",
              "H2S           3.5387     1.1315   3.127  0.00444 **\n",
              "Lactic       17.9527     7.7875   2.305  0.02973 * \n",
              "time         -0.5459     0.2043  -2.672  0.01306 * \n",
              "---\n",
              "Signif. codes:  0 ‘***’ 0.001 ‘**’ 0.01 ‘*’ 0.05 ‘.’ 0.1 ‘ ’ 1\n",
              "\n",
              "Residual standard error: 9.112 on 25 degrees of freedom\n",
              "Multiple R-squared:  0.7291,\tAdjusted R-squared:  0.6858 \n",
              "F-statistic: 16.83 on 4 and 25 DF,  p-value: 8.205e-07\n"
            ]
          },
          "metadata": {}
        }
      ]
    },
    {
      "cell_type": "markdown",
      "source": [
        "**Ans 2.c)** In the new model for OLS the \"time\" predictor is not significant as the p value <α (5%)."
      ],
      "metadata": {
        "id": "1cB4Jwl8vvM7"
      }
    },
    {
      "cell_type": "markdown",
      "source": [
        "**Ans 2.d)**\n",
        "In the OLS we take time as a predictor. In the GLS model we take the Variance of error as Σ and the variations in errors with time is recorded in Σ matrix.\n",
        "The variation of error in OLS is taken as σ^2 I."
      ],
      "metadata": {
        "id": "95Nb8b45P0Tv"
      }
    },
    {
      "cell_type": "code",
      "source": [],
      "metadata": {
        "id": "8SkvROnsbwns"
      },
      "execution_count": null,
      "outputs": []
    },
    {
      "cell_type": "code",
      "source": [],
      "metadata": {
        "id": "oj2tQ7E3bwgc"
      },
      "execution_count": null,
      "outputs": []
    },
    {
      "cell_type": "code",
      "source": [],
      "metadata": {
        "id": "34pE9uibbwVa"
      },
      "execution_count": null,
      "outputs": []
    }
  ]
}