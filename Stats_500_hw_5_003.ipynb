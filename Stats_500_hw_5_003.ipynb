{
  "nbformat": 4,
  "nbformat_minor": 0,
  "metadata": {
    "colab": {
      "provenance": [],
      "authorship_tag": "ABX9TyMF7oYEtbuCzxJzLHaREUHH",
      "include_colab_link": true
    },
    "kernelspec": {
      "name": "ir",
      "display_name": "R"
    },
    "language_info": {
      "name": "R"
    }
  },
  "cells": [
    {
      "cell_type": "markdown",
      "metadata": {
        "id": "view-in-github",
        "colab_type": "text"
      },
      "source": [
        "<a href=\"https://colab.research.google.com/github/prathamesh0902/natural-language-processing/blob/master/Stats_500_hw_5_003.ipynb\" target=\"_parent\"><img src=\"https://colab.research.google.com/assets/colab-badge.svg\" alt=\"Open In Colab\"/></a>"
      ]
    },
    {
      "cell_type": "markdown",
      "source": [
        "## **Prathamesh Joshi**\n",
        "STATS 500-Hw 5\n",
        "\n",
        "**Problem 1**"
      ],
      "metadata": {
        "id": "wpEPBhVwCCIq"
      }
    },
    {
      "cell_type": "code",
      "execution_count": null,
      "metadata": {
        "colab": {
          "base_uri": "https://localhost:8080/"
        },
        "id": "_1134O2xBYzq",
        "outputId": "6edd1d89-ddd5-4b48-af33-8319e236e032"
      },
      "outputs": [
        {
          "output_type": "stream",
          "name": "stderr",
          "text": [
            "Installing package into ‘/usr/local/lib/R/site-library’\n",
            "(as ‘lib’ is unspecified)\n",
            "\n",
            "also installing the dependencies ‘minqa’, ‘nloptr’, ‘Rcpp’, ‘RcppEigen’, ‘lme4’\n",
            "\n",
            "\n"
          ]
        }
      ],
      "source": [
        "install.packages(\"faraway\")\n",
        "library(faraway)"
      ]
    },
    {
      "cell_type": "code",
      "source": [
        "data(divusa)"
      ],
      "metadata": {
        "id": "VSMz5dydB2iP"
      },
      "execution_count": null,
      "outputs": []
    },
    {
      "cell_type": "code",
      "source": [
        "divusa[0:7,]"
      ],
      "metadata": {
        "colab": {
          "base_uri": "https://localhost:8080/",
          "height": 318
        },
        "id": "8mhhMcndEAy1",
        "outputId": "f60140cd-486f-4ecf-d9e9-b65e1e6d0396"
      },
      "execution_count": null,
      "outputs": [
        {
          "output_type": "display_data",
          "data": {
            "text/html": [
              "<table class=\"dataframe\">\n",
              "<caption>A data.frame: 7 × 7</caption>\n",
              "<thead>\n",
              "\t<tr><th></th><th scope=col>year</th><th scope=col>divorce</th><th scope=col>unemployed</th><th scope=col>femlab</th><th scope=col>marriage</th><th scope=col>birth</th><th scope=col>military</th></tr>\n",
              "\t<tr><th></th><th scope=col>&lt;int&gt;</th><th scope=col>&lt;dbl&gt;</th><th scope=col>&lt;dbl&gt;</th><th scope=col>&lt;dbl&gt;</th><th scope=col>&lt;dbl&gt;</th><th scope=col>&lt;dbl&gt;</th><th scope=col>&lt;dbl&gt;</th></tr>\n",
              "</thead>\n",
              "<tbody>\n",
              "\t<tr><th scope=row>1</th><td>1920</td><td>8.0</td><td> 5.2</td><td>22.70</td><td>92.0</td><td>117.9</td><td>3.2247</td></tr>\n",
              "\t<tr><th scope=row>2</th><td>1921</td><td>7.2</td><td>11.7</td><td>22.79</td><td>83.0</td><td>119.8</td><td>3.5614</td></tr>\n",
              "\t<tr><th scope=row>3</th><td>1922</td><td>6.6</td><td> 6.7</td><td>22.88</td><td>79.7</td><td>111.2</td><td>2.4553</td></tr>\n",
              "\t<tr><th scope=row>4</th><td>1923</td><td>7.1</td><td> 2.4</td><td>22.97</td><td>85.2</td><td>110.5</td><td>2.2065</td></tr>\n",
              "\t<tr><th scope=row>5</th><td>1924</td><td>7.2</td><td> 5.0</td><td>23.06</td><td>80.3</td><td>110.9</td><td>2.2889</td></tr>\n",
              "\t<tr><th scope=row>6</th><td>1925</td><td>7.2</td><td> 3.2</td><td>23.15</td><td>79.2</td><td>106.6</td><td>2.1735</td></tr>\n",
              "\t<tr><th scope=row>7</th><td>1926</td><td>7.5</td><td> 1.8</td><td>23.24</td><td>78.7</td><td>102.6</td><td>2.1073</td></tr>\n",
              "</tbody>\n",
              "</table>\n"
            ],
            "text/markdown": "\nA data.frame: 7 × 7\n\n| <!--/--> | year &lt;int&gt; | divorce &lt;dbl&gt; | unemployed &lt;dbl&gt; | femlab &lt;dbl&gt; | marriage &lt;dbl&gt; | birth &lt;dbl&gt; | military &lt;dbl&gt; |\n|---|---|---|---|---|---|---|---|\n| 1 | 1920 | 8.0 |  5.2 | 22.70 | 92.0 | 117.9 | 3.2247 |\n| 2 | 1921 | 7.2 | 11.7 | 22.79 | 83.0 | 119.8 | 3.5614 |\n| 3 | 1922 | 6.6 |  6.7 | 22.88 | 79.7 | 111.2 | 2.4553 |\n| 4 | 1923 | 7.1 |  2.4 | 22.97 | 85.2 | 110.5 | 2.2065 |\n| 5 | 1924 | 7.2 |  5.0 | 23.06 | 80.3 | 110.9 | 2.2889 |\n| 6 | 1925 | 7.2 |  3.2 | 23.15 | 79.2 | 106.6 | 2.1735 |\n| 7 | 1926 | 7.5 |  1.8 | 23.24 | 78.7 | 102.6 | 2.1073 |\n\n",
            "text/latex": "A data.frame: 7 × 7\n\\begin{tabular}{r|lllllll}\n  & year & divorce & unemployed & femlab & marriage & birth & military\\\\\n  & <int> & <dbl> & <dbl> & <dbl> & <dbl> & <dbl> & <dbl>\\\\\n\\hline\n\t1 & 1920 & 8.0 &  5.2 & 22.70 & 92.0 & 117.9 & 3.2247\\\\\n\t2 & 1921 & 7.2 & 11.7 & 22.79 & 83.0 & 119.8 & 3.5614\\\\\n\t3 & 1922 & 6.6 &  6.7 & 22.88 & 79.7 & 111.2 & 2.4553\\\\\n\t4 & 1923 & 7.1 &  2.4 & 22.97 & 85.2 & 110.5 & 2.2065\\\\\n\t5 & 1924 & 7.2 &  5.0 & 23.06 & 80.3 & 110.9 & 2.2889\\\\\n\t6 & 1925 & 7.2 &  3.2 & 23.15 & 79.2 & 106.6 & 2.1735\\\\\n\t7 & 1926 & 7.5 &  1.8 & 23.24 & 78.7 & 102.6 & 2.1073\\\\\n\\end{tabular}\n",
            "text/plain": [
              "  year divorce unemployed femlab marriage birth military\n",
              "1 1920 8.0      5.2       22.70  92.0     117.9 3.2247  \n",
              "2 1921 7.2     11.7       22.79  83.0     119.8 3.5614  \n",
              "3 1922 6.6      6.7       22.88  79.7     111.2 2.4553  \n",
              "4 1923 7.1      2.4       22.97  85.2     110.5 2.2065  \n",
              "5 1924 7.2      5.0       23.06  80.3     110.9 2.2889  \n",
              "6 1925 7.2      3.2       23.15  79.2     106.6 2.1735  \n",
              "7 1926 7.5      1.8       23.24  78.7     102.6 2.1073  "
            ]
          },
          "metadata": {}
        }
      ]
    },
    {
      "cell_type": "code",
      "source": [
        "#help(divusa)"
      ],
      "metadata": {
        "id": "C9a0KgLUDEv9"
      },
      "execution_count": null,
      "outputs": []
    },
    {
      "cell_type": "code",
      "source": [
        "mdl1 <- lm(divorce~ unemployed + femlab + marriage + birth + military , divusa)\n",
        "summary(mdl1)"
      ],
      "metadata": {
        "id": "2J2ALsg3DL0x",
        "colab": {
          "base_uri": "https://localhost:8080/",
          "height": 416
        },
        "outputId": "12fe5b83-2969-4482-f99c-74854b92d737"
      },
      "execution_count": null,
      "outputs": [
        {
          "output_type": "display_data",
          "data": {
            "text/plain": [
              "\n",
              "Call:\n",
              "lm(formula = divorce ~ unemployed + femlab + marriage + birth + \n",
              "    military, data = divusa)\n",
              "\n",
              "Residuals:\n",
              "    Min      1Q  Median      3Q     Max \n",
              "-3.8611 -0.8916 -0.0496  0.8650  3.8300 \n",
              "\n",
              "Coefficients:\n",
              "            Estimate Std. Error t value Pr(>|t|)    \n",
              "(Intercept)  2.48784    3.39378   0.733   0.4659    \n",
              "unemployed  -0.11125    0.05592  -1.989   0.0505 .  \n",
              "femlab       0.38365    0.03059  12.543  < 2e-16 ***\n",
              "marriage     0.11867    0.02441   4.861 6.77e-06 ***\n",
              "birth       -0.12996    0.01560  -8.333 4.03e-12 ***\n",
              "military    -0.02673    0.01425  -1.876   0.0647 .  \n",
              "---\n",
              "Signif. codes:  0 ‘***’ 0.001 ‘**’ 0.01 ‘*’ 0.05 ‘.’ 0.1 ‘ ’ 1\n",
              "\n",
              "Residual standard error: 1.65 on 71 degrees of freedom\n",
              "Multiple R-squared:  0.9208,\tAdjusted R-squared:  0.9152 \n",
              "F-statistic: 165.1 on 5 and 71 DF,  p-value: < 2.2e-16\n"
            ]
          },
          "metadata": {}
        }
      ]
    },
    {
      "cell_type": "code",
      "source": [
        "round(cor(divusa),2)"
      ],
      "metadata": {
        "colab": {
          "base_uri": "https://localhost:8080/",
          "height": 286
        },
        "id": "BY7fuS7PDhgM",
        "outputId": "eeba2af3-0f55-437a-b80f-6742398f76b7"
      },
      "execution_count": null,
      "outputs": [
        {
          "output_type": "display_data",
          "data": {
            "text/html": [
              "<table class=\"dataframe\">\n",
              "<caption>A matrix: 7 × 7 of type dbl</caption>\n",
              "<thead>\n",
              "\t<tr><th></th><th scope=col>year</th><th scope=col>divorce</th><th scope=col>unemployed</th><th scope=col>femlab</th><th scope=col>marriage</th><th scope=col>birth</th><th scope=col>military</th></tr>\n",
              "</thead>\n",
              "<tbody>\n",
              "\t<tr><th scope=row>year</th><td> 1.00</td><td> 0.88</td><td>-0.23</td><td> 0.99</td><td>-0.62</td><td>-0.58</td><td> 0.01</td></tr>\n",
              "\t<tr><th scope=row>divorce</th><td> 0.88</td><td> 1.00</td><td>-0.21</td><td> 0.91</td><td>-0.53</td><td>-0.72</td><td> 0.02</td></tr>\n",
              "\t<tr><th scope=row>unemployed</th><td>-0.23</td><td>-0.21</td><td> 1.00</td><td>-0.26</td><td>-0.27</td><td>-0.31</td><td>-0.40</td></tr>\n",
              "\t<tr><th scope=row>femlab</th><td> 0.99</td><td> 0.91</td><td>-0.26</td><td> 1.00</td><td>-0.65</td><td>-0.60</td><td> 0.05</td></tr>\n",
              "\t<tr><th scope=row>marriage</th><td>-0.62</td><td>-0.53</td><td>-0.27</td><td>-0.65</td><td> 1.00</td><td> 0.67</td><td> 0.26</td></tr>\n",
              "\t<tr><th scope=row>birth</th><td>-0.58</td><td>-0.72</td><td>-0.31</td><td>-0.60</td><td> 0.67</td><td> 1.00</td><td> 0.14</td></tr>\n",
              "\t<tr><th scope=row>military</th><td> 0.01</td><td> 0.02</td><td>-0.40</td><td> 0.05</td><td> 0.26</td><td> 0.14</td><td> 1.00</td></tr>\n",
              "</tbody>\n",
              "</table>\n"
            ],
            "text/markdown": "\nA matrix: 7 × 7 of type dbl\n\n| <!--/--> | year | divorce | unemployed | femlab | marriage | birth | military |\n|---|---|---|---|---|---|---|---|\n| year |  1.00 |  0.88 | -0.23 |  0.99 | -0.62 | -0.58 |  0.01 |\n| divorce |  0.88 |  1.00 | -0.21 |  0.91 | -0.53 | -0.72 |  0.02 |\n| unemployed | -0.23 | -0.21 |  1.00 | -0.26 | -0.27 | -0.31 | -0.40 |\n| femlab |  0.99 |  0.91 | -0.26 |  1.00 | -0.65 | -0.60 |  0.05 |\n| marriage | -0.62 | -0.53 | -0.27 | -0.65 |  1.00 |  0.67 |  0.26 |\n| birth | -0.58 | -0.72 | -0.31 | -0.60 |  0.67 |  1.00 |  0.14 |\n| military |  0.01 |  0.02 | -0.40 |  0.05 |  0.26 |  0.14 |  1.00 |\n\n",
            "text/latex": "A matrix: 7 × 7 of type dbl\n\\begin{tabular}{r|lllllll}\n  & year & divorce & unemployed & femlab & marriage & birth & military\\\\\n\\hline\n\tyear &  1.00 &  0.88 & -0.23 &  0.99 & -0.62 & -0.58 &  0.01\\\\\n\tdivorce &  0.88 &  1.00 & -0.21 &  0.91 & -0.53 & -0.72 &  0.02\\\\\n\tunemployed & -0.23 & -0.21 &  1.00 & -0.26 & -0.27 & -0.31 & -0.40\\\\\n\tfemlab &  0.99 &  0.91 & -0.26 &  1.00 & -0.65 & -0.60 &  0.05\\\\\n\tmarriage & -0.62 & -0.53 & -0.27 & -0.65 &  1.00 &  0.67 &  0.26\\\\\n\tbirth & -0.58 & -0.72 & -0.31 & -0.60 &  0.67 &  1.00 &  0.14\\\\\n\tmilitary &  0.01 &  0.02 & -0.40 &  0.05 &  0.26 &  0.14 &  1.00\\\\\n\\end{tabular}\n",
            "text/plain": [
              "           year  divorce unemployed femlab marriage birth military\n",
              "year        1.00  0.88   -0.23       0.99  -0.62    -0.58  0.01   \n",
              "divorce     0.88  1.00   -0.21       0.91  -0.53    -0.72  0.02   \n",
              "unemployed -0.23 -0.21    1.00      -0.26  -0.27    -0.31 -0.40   \n",
              "femlab      0.99  0.91   -0.26       1.00  -0.65    -0.60  0.05   \n",
              "marriage   -0.62 -0.53   -0.27      -0.65   1.00     0.67  0.26   \n",
              "birth      -0.58 -0.72   -0.31      -0.60   0.67     1.00  0.14   \n",
              "military    0.01  0.02   -0.40       0.05   0.26     0.14  1.00   "
            ]
          },
          "metadata": {}
        }
      ]
    },
    {
      "cell_type": "markdown",
      "source": [
        "We do not see a collinearity among the variables of the model."
      ],
      "metadata": {
        "id": "jVoJ9tsQ1m2Z"
      }
    },
    {
      "cell_type": "code",
      "source": [
        "##Condition number\n",
        "X <- model.matrix(mdl1)[,-1]\n",
        "e <- eigen(t(X) %*% X)\n",
        "e$val"
      ],
      "metadata": {
        "colab": {
          "base_uri": "https://localhost:8080/",
          "height": 34
        },
        "id": "gCgRmUy6EiJ9",
        "outputId": "55bcd6d4-aeb1-4e1b-a1f0-1f458bbf38fb"
      },
      "execution_count": null,
      "outputs": [
        {
          "output_type": "display_data",
          "data": {
            "text/html": [
              "<style>\n",
              ".list-inline {list-style: none; margin:0; padding: 0}\n",
              ".list-inline>li {display: inline-block}\n",
              ".list-inline>li:not(:last-child)::after {content: \"\\00b7\"; padding: 0 .5ex}\n",
              "</style>\n",
              "<ol class=list-inline><li>1174600.54800538</li><li>21261.7407037959</li><li>16133.8418075074</li><li>6206.1809230216</li><li>1856.8943980144</li></ol>\n"
            ],
            "text/markdown": "1. 1174600.54800538\n2. 21261.7407037959\n3. 16133.8418075074\n4. 6206.1809230216\n5. 1856.8943980144\n\n\n",
            "text/latex": "\\begin{enumerate*}\n\\item 1174600.54800538\n\\item 21261.7407037959\n\\item 16133.8418075074\n\\item 6206.1809230216\n\\item 1856.8943980144\n\\end{enumerate*}\n",
            "text/plain": [
              "[1] 1174600.548   21261.741   16133.842    6206.181    1856.894"
            ]
          },
          "metadata": {}
        }
      ]
    },
    {
      "cell_type": "code",
      "source": [
        "round(sqrt(e$val[1]/e$val),3)"
      ],
      "metadata": {
        "colab": {
          "base_uri": "https://localhost:8080/",
          "height": 34
        },
        "id": "IsjPq9USE5Tb",
        "outputId": "3e77be31-14a9-4ce5-b9d7-4ad700a51297"
      },
      "execution_count": null,
      "outputs": [
        {
          "output_type": "display_data",
          "data": {
            "text/html": [
              "<style>\n",
              ".list-inline {list-style: none; margin:0; padding: 0}\n",
              ".list-inline>li {display: inline-block}\n",
              ".list-inline>li:not(:last-child)::after {content: \"\\00b7\"; padding: 0 .5ex}\n",
              "</style>\n",
              "<ol class=list-inline><li>1</li><li>7.433</li><li>8.532</li><li>13.757</li><li>25.151</li></ol>\n"
            ],
            "text/markdown": "1. 1\n2. 7.433\n3. 8.532\n4. 13.757\n5. 25.151\n\n\n",
            "text/latex": "\\begin{enumerate*}\n\\item 1\n\\item 7.433\n\\item 8.532\n\\item 13.757\n\\item 25.151\n\\end{enumerate*}\n",
            "text/plain": [
              "[1]  1.000  7.433  8.532 13.757 25.151"
            ]
          },
          "metadata": {}
        }
      ]
    },
    {
      "cell_type": "markdown",
      "source": [
        "**Ans 1.1** The condition number is 25.151. This states that the collinearity in the model is very low."
      ],
      "metadata": {
        "id": "qJfyICk30NKs"
      }
    },
    {
      "cell_type": "code",
      "source": [
        "##Variance Inflation factor\n",
        "round(vif(X),3)"
      ],
      "metadata": {
        "colab": {
          "base_uri": "https://localhost:8080/",
          "height": 34
        },
        "id": "z-KSwk5OFLY7",
        "outputId": "e10c2b62-82dd-41de-b56e-f9dcd91a8aaf"
      },
      "execution_count": null,
      "outputs": [
        {
          "output_type": "display_data",
          "data": {
            "text/html": [
              "<style>\n",
              ".dl-inline {width: auto; margin:0; padding: 0}\n",
              ".dl-inline>dt, .dl-inline>dd {float: none; width: auto; display: inline-block}\n",
              ".dl-inline>dt::after {content: \":\\0020\"; padding-right: .5ex}\n",
              ".dl-inline>dt:not(:first-of-type) {padding-left: .5ex}\n",
              "</style><dl class=dl-inline><dt>unemployed</dt><dd>2.253</dd><dt>femlab</dt><dd>3.613</dd><dt>marriage</dt><dd>2.865</dd><dt>birth</dt><dd>2.585</dd><dt>military</dt><dd>1.25</dd></dl>\n"
            ],
            "text/markdown": "unemployed\n:   2.253femlab\n:   3.613marriage\n:   2.865birth\n:   2.585military\n:   1.25\n\n",
            "text/latex": "\\begin{description*}\n\\item[unemployed] 2.253\n\\item[femlab] 3.613\n\\item[marriage] 2.865\n\\item[birth] 2.585\n\\item[military] 1.25\n\\end{description*}\n",
            "text/plain": [
              "unemployed     femlab   marriage      birth   military \n",
              "     2.253      3.613      2.865      2.585      1.250 "
            ]
          },
          "metadata": {}
        }
      ]
    },
    {
      "cell_type": "markdown",
      "source": [
        "**Ans 1.2** There is a very low collinearity between the predictors. Hence we cannot conclusively say about the significance of the predictors."
      ],
      "metadata": {
        "id": "qAboUqWsF7mb"
      }
    },
    {
      "cell_type": "markdown",
      "source": [
        "**Ans 1.3** The model does not show collinearity. The predictors for \"femlab\", \"marriage\" and \"birth\" are significant for the current model."
      ],
      "metadata": {
        "id": "QHTtkYAq2XMp"
      }
    },
    {
      "cell_type": "markdown",
      "source": [
        "________________________\n",
        "**Problem 2**"
      ],
      "metadata": {
        "id": "pSck8mXAGAwa"
      }
    },
    {
      "cell_type": "code",
      "source": [
        "data(longley)"
      ],
      "metadata": {
        "id": "_i8IBbxXGJhK"
      },
      "execution_count": null,
      "outputs": []
    },
    {
      "cell_type": "code",
      "source": [
        "#help(longley)"
      ],
      "metadata": {
        "id": "ioi-MXWUGTF6"
      },
      "execution_count": null,
      "outputs": []
    },
    {
      "cell_type": "code",
      "source": [
        "mdl2 <- lm(Employed ~ . , data=longley)\n",
        "summary(mdl2)"
      ],
      "metadata": {
        "id": "H2oqDqweD8je",
        "colab": {
          "base_uri": "https://localhost:8080/",
          "height": 416
        },
        "outputId": "34e6e630-0404-4296-ae39-203282593957"
      },
      "execution_count": null,
      "outputs": [
        {
          "output_type": "display_data",
          "data": {
            "text/plain": [
              "\n",
              "Call:\n",
              "lm(formula = Employed ~ ., data = longley)\n",
              "\n",
              "Residuals:\n",
              "     Min       1Q   Median       3Q      Max \n",
              "-0.41011 -0.15767 -0.02816  0.10155  0.45539 \n",
              "\n",
              "Coefficients:\n",
              "               Estimate Std. Error t value Pr(>|t|)    \n",
              "(Intercept)  -3.482e+03  8.904e+02  -3.911 0.003560 ** \n",
              "GNP.deflator  1.506e-02  8.492e-02   0.177 0.863141    \n",
              "GNP          -3.582e-02  3.349e-02  -1.070 0.312681    \n",
              "Unemployed   -2.020e-02  4.884e-03  -4.136 0.002535 ** \n",
              "Armed.Forces -1.033e-02  2.143e-03  -4.822 0.000944 ***\n",
              "Population   -5.110e-02  2.261e-01  -0.226 0.826212    \n",
              "Year          1.829e+00  4.555e-01   4.016 0.003037 ** \n",
              "---\n",
              "Signif. codes:  0 ‘***’ 0.001 ‘**’ 0.01 ‘*’ 0.05 ‘.’ 0.1 ‘ ’ 1\n",
              "\n",
              "Residual standard error: 0.3049 on 9 degrees of freedom\n",
              "Multiple R-squared:  0.9955,\tAdjusted R-squared:  0.9925 \n",
              "F-statistic: 330.3 on 6 and 9 DF,  p-value: 4.984e-10\n"
            ]
          },
          "metadata": {}
        }
      ]
    },
    {
      "cell_type": "code",
      "source": [
        "##Condition number\n",
        "Y <- model.matrix(mdl2)[,-1]\n",
        "e2 <- eigen(t(Y) %*% Y)\n",
        "e2$val"
      ],
      "metadata": {
        "colab": {
          "base_uri": "https://localhost:8080/",
          "height": 34
        },
        "id": "uxG5ovW-HTcT",
        "outputId": "89956677-8e59-44ab-a0d8-8ca9faa3d038"
      },
      "execution_count": null,
      "outputs": [
        {
          "output_type": "display_data",
          "data": {
            "text/html": [
              "<style>\n",
              ".list-inline {list-style: none; margin:0; padding: 0}\n",
              ".list-inline>li {display: inline-block}\n",
              ".list-inline>li:not(:last-child)::after {content: \"\\00b7\"; padding: 0 .5ex}\n",
              "</style>\n",
              "<ol class=list-inline><li>66652992.8830627</li><li>209072.969152225</li><li>105355.04774725</li><li>18039.7602023753</li><li>24.5572969930849</li><li>2.01511742187054</li></ol>\n"
            ],
            "text/markdown": "1. 66652992.8830627\n2. 209072.969152225\n3. 105355.04774725\n4. 18039.7602023753\n5. 24.5572969930849\n6. 2.01511742187054\n\n\n",
            "text/latex": "\\begin{enumerate*}\n\\item 66652992.8830627\n\\item 209072.969152225\n\\item 105355.04774725\n\\item 18039.7602023753\n\\item 24.5572969930849\n\\item 2.01511742187054\n\\end{enumerate*}\n",
            "text/plain": [
              "[1] 6.665299e+07 2.090730e+05 1.053550e+05 1.803976e+04 2.455730e+01\n",
              "[6] 2.015117e+00"
            ]
          },
          "metadata": {}
        }
      ]
    },
    {
      "cell_type": "code",
      "source": [
        "round(sqrt(e2$val[1]/e2$val),3)"
      ],
      "metadata": {
        "colab": {
          "base_uri": "https://localhost:8080/",
          "height": 34
        },
        "id": "oq5IM6bkHtzT",
        "outputId": "31e0bb6b-3bf5-4af1-b4fb-078ee9f455a5"
      },
      "execution_count": null,
      "outputs": [
        {
          "output_type": "display_data",
          "data": {
            "text/html": [
              "<style>\n",
              ".list-inline {list-style: none; margin:0; padding: 0}\n",
              ".list-inline>li {display: inline-block}\n",
              ".list-inline>li:not(:last-child)::after {content: \"\\00b7\"; padding: 0 .5ex}\n",
              "</style>\n",
              "<ol class=list-inline><li>1</li><li>17.855</li><li>25.153</li><li>60.785</li><li>1647.478</li><li>5751.216</li></ol>\n"
            ],
            "text/markdown": "1. 1\n2. 17.855\n3. 25.153\n4. 60.785\n5. 1647.478\n6. 5751.216\n\n\n",
            "text/latex": "\\begin{enumerate*}\n\\item 1\n\\item 17.855\n\\item 25.153\n\\item 60.785\n\\item 1647.478\n\\item 5751.216\n\\end{enumerate*}\n",
            "text/plain": [
              "[1]    1.000   17.855   25.153   60.785 1647.478 5751.216"
            ]
          },
          "metadata": {}
        }
      ]
    },
    {
      "cell_type": "markdown",
      "source": [
        "**Ans 2.1** The condition numbers are large stating that the collinearity in the model is high. Also we see that the predictors (except \"Armed.Forces\") are not significant."
      ],
      "metadata": {
        "id": "O-zAnBIX3Zz9"
      }
    },
    {
      "cell_type": "code",
      "source": [
        "round(cor(longley),2)"
      ],
      "metadata": {
        "colab": {
          "base_uri": "https://localhost:8080/",
          "height": 286
        },
        "id": "-A4HAGVCHTlk",
        "outputId": "36ee3d4a-c337-4926-c223-2d5ce1f009cc"
      },
      "execution_count": null,
      "outputs": [
        {
          "output_type": "display_data",
          "data": {
            "text/html": [
              "<table class=\"dataframe\">\n",
              "<caption>A matrix: 7 × 7 of type dbl</caption>\n",
              "<thead>\n",
              "\t<tr><th></th><th scope=col>GNP.deflator</th><th scope=col>GNP</th><th scope=col>Unemployed</th><th scope=col>Armed.Forces</th><th scope=col>Population</th><th scope=col>Year</th><th scope=col>Employed</th></tr>\n",
              "</thead>\n",
              "<tbody>\n",
              "\t<tr><th scope=row>GNP.deflator</th><td>1.00</td><td>0.99</td><td> 0.62</td><td> 0.46</td><td>0.98</td><td>0.99</td><td>0.97</td></tr>\n",
              "\t<tr><th scope=row>GNP</th><td>0.99</td><td>1.00</td><td> 0.60</td><td> 0.45</td><td>0.99</td><td>1.00</td><td>0.98</td></tr>\n",
              "\t<tr><th scope=row>Unemployed</th><td>0.62</td><td>0.60</td><td> 1.00</td><td>-0.18</td><td>0.69</td><td>0.67</td><td>0.50</td></tr>\n",
              "\t<tr><th scope=row>Armed.Forces</th><td>0.46</td><td>0.45</td><td>-0.18</td><td> 1.00</td><td>0.36</td><td>0.42</td><td>0.46</td></tr>\n",
              "\t<tr><th scope=row>Population</th><td>0.98</td><td>0.99</td><td> 0.69</td><td> 0.36</td><td>1.00</td><td>0.99</td><td>0.96</td></tr>\n",
              "\t<tr><th scope=row>Year</th><td>0.99</td><td>1.00</td><td> 0.67</td><td> 0.42</td><td>0.99</td><td>1.00</td><td>0.97</td></tr>\n",
              "\t<tr><th scope=row>Employed</th><td>0.97</td><td>0.98</td><td> 0.50</td><td> 0.46</td><td>0.96</td><td>0.97</td><td>1.00</td></tr>\n",
              "</tbody>\n",
              "</table>\n"
            ],
            "text/markdown": "\nA matrix: 7 × 7 of type dbl\n\n| <!--/--> | GNP.deflator | GNP | Unemployed | Armed.Forces | Population | Year | Employed |\n|---|---|---|---|---|---|---|---|\n| GNP.deflator | 1.00 | 0.99 |  0.62 |  0.46 | 0.98 | 0.99 | 0.97 |\n| GNP | 0.99 | 1.00 |  0.60 |  0.45 | 0.99 | 1.00 | 0.98 |\n| Unemployed | 0.62 | 0.60 |  1.00 | -0.18 | 0.69 | 0.67 | 0.50 |\n| Armed.Forces | 0.46 | 0.45 | -0.18 |  1.00 | 0.36 | 0.42 | 0.46 |\n| Population | 0.98 | 0.99 |  0.69 |  0.36 | 1.00 | 0.99 | 0.96 |\n| Year | 0.99 | 1.00 |  0.67 |  0.42 | 0.99 | 1.00 | 0.97 |\n| Employed | 0.97 | 0.98 |  0.50 |  0.46 | 0.96 | 0.97 | 1.00 |\n\n",
            "text/latex": "A matrix: 7 × 7 of type dbl\n\\begin{tabular}{r|lllllll}\n  & GNP.deflator & GNP & Unemployed & Armed.Forces & Population & Year & Employed\\\\\n\\hline\n\tGNP.deflator & 1.00 & 0.99 &  0.62 &  0.46 & 0.98 & 0.99 & 0.97\\\\\n\tGNP & 0.99 & 1.00 &  0.60 &  0.45 & 0.99 & 1.00 & 0.98\\\\\n\tUnemployed & 0.62 & 0.60 &  1.00 & -0.18 & 0.69 & 0.67 & 0.50\\\\\n\tArmed.Forces & 0.46 & 0.45 & -0.18 &  1.00 & 0.36 & 0.42 & 0.46\\\\\n\tPopulation & 0.98 & 0.99 &  0.69 &  0.36 & 1.00 & 0.99 & 0.96\\\\\n\tYear & 0.99 & 1.00 &  0.67 &  0.42 & 0.99 & 1.00 & 0.97\\\\\n\tEmployed & 0.97 & 0.98 &  0.50 &  0.46 & 0.96 & 0.97 & 1.00\\\\\n\\end{tabular}\n",
            "text/plain": [
              "             GNP.deflator GNP  Unemployed Armed.Forces Population Year Employed\n",
              "GNP.deflator 1.00         0.99  0.62       0.46        0.98       0.99 0.97    \n",
              "GNP          0.99         1.00  0.60       0.45        0.99       1.00 0.98    \n",
              "Unemployed   0.62         0.60  1.00      -0.18        0.69       0.67 0.50    \n",
              "Armed.Forces 0.46         0.45 -0.18       1.00        0.36       0.42 0.46    \n",
              "Population   0.98         0.99  0.69       0.36        1.00       0.99 0.96    \n",
              "Year         0.99         1.00  0.67       0.42        0.99       1.00 0.97    \n",
              "Employed     0.97         0.98  0.50       0.46        0.96       0.97 1.00    "
            ]
          },
          "metadata": {}
        }
      ]
    },
    {
      "cell_type": "markdown",
      "source": [
        "**Ans 2.2** We see that there is high correlation between \"GNP.deflator\", \"GNP\", \"Population\" and \"Year"
      ],
      "metadata": {
        "id": "oYyTgYfI30dy"
      }
    },
    {
      "cell_type": "markdown",
      "source": [
        "**And 2.3** The Variance Inflation factors are as follows:"
      ],
      "metadata": {
        "id": "wP45pH9F4k6t"
      }
    },
    {
      "cell_type": "code",
      "source": [
        "##Variance Inflation factor\n",
        "round(vif(Y),3)"
      ],
      "metadata": {
        "colab": {
          "base_uri": "https://localhost:8080/",
          "height": 34
        },
        "id": "vTGs6S3rIIh1",
        "outputId": "2c165d9e-d014-4a52-ce44-53b1242b4bfc"
      },
      "execution_count": null,
      "outputs": [
        {
          "output_type": "display_data",
          "data": {
            "text/html": [
              "<style>\n",
              ".dl-inline {width: auto; margin:0; padding: 0}\n",
              ".dl-inline>dt, .dl-inline>dd {float: none; width: auto; display: inline-block}\n",
              ".dl-inline>dt::after {content: \":\\0020\"; padding-right: .5ex}\n",
              ".dl-inline>dt:not(:first-of-type) {padding-left: .5ex}\n",
              "</style><dl class=dl-inline><dt>GNP.deflator</dt><dd>135.532</dd><dt>GNP</dt><dd>1788.513</dd><dt>Unemployed</dt><dd>33.619</dd><dt>Armed.Forces</dt><dd>3.589</dd><dt>Population</dt><dd>399.151</dd><dt>Year</dt><dd>758.981</dd></dl>\n"
            ],
            "text/markdown": "GNP.deflator\n:   135.532GNP\n:   1788.513Unemployed\n:   33.619Armed.Forces\n:   3.589Population\n:   399.151Year\n:   758.981\n\n",
            "text/latex": "\\begin{description*}\n\\item[GNP.deflator] 135.532\n\\item[GNP] 1788.513\n\\item[Unemployed] 33.619\n\\item[Armed.Forces] 3.589\n\\item[Population] 399.151\n\\item[Year] 758.981\n\\end{description*}\n",
            "text/plain": [
              "GNP.deflator          GNP   Unemployed Armed.Forces   Population         Year \n",
              "     135.532     1788.513       33.619        3.589      399.151      758.981 "
            ]
          },
          "metadata": {}
        }
      ]
    },
    {
      "cell_type": "markdown",
      "source": [
        "The VIF are large showing greater correlation between predictors."
      ],
      "metadata": {
        "id": "r-XahwmJ4ziA"
      }
    },
    {
      "cell_type": "markdown",
      "source": [
        "We drop off \"GNP.deflator\", \"Population\" and \"Year\" variables."
      ],
      "metadata": {
        "id": "bxSat9Wk4jHO"
      }
    },
    {
      "cell_type": "code",
      "source": [
        "mdl3 <- lm(Employed ~ longley$GNP+longley$Armed.Forces+longley$Unemployed , data=longley)\n",
        "summary(mdl3)"
      ],
      "metadata": {
        "colab": {
          "base_uri": "https://localhost:8080/",
          "height": 381
        },
        "id": "tFjkJ7pQ45N2",
        "outputId": "bf40e52b-d6b0-4f84-baf0-000921a199db"
      },
      "execution_count": null,
      "outputs": [
        {
          "output_type": "display_data",
          "data": {
            "text/plain": [
              "\n",
              "Call:\n",
              "lm(formula = Employed ~ longley$GNP + longley$Armed.Forces + \n",
              "    longley$Unemployed, data = longley)\n",
              "\n",
              "Residuals:\n",
              "     Min       1Q   Median       3Q      Max \n",
              "-0.83085 -0.22306  0.01735  0.10699  1.08090 \n",
              "\n",
              "Coefficients:\n",
              "                      Estimate Std. Error t value Pr(>|t|)    \n",
              "(Intercept)          53.306461   0.716342  74.415  < 2e-16 ***\n",
              "longley$GNP           0.040788   0.002207  18.485 3.49e-10 ***\n",
              "longley$Armed.Forces -0.004828   0.002552  -1.892  0.08286 .  \n",
              "longley$Unemployed   -0.007968   0.002134  -3.734  0.00285 ** \n",
              "---\n",
              "Signif. codes:  0 ‘***’ 0.001 ‘**’ 0.01 ‘*’ 0.05 ‘.’ 0.1 ‘ ’ 1\n",
              "\n",
              "Residual standard error: 0.4793 on 12 degrees of freedom\n",
              "Multiple R-squared:  0.9851,\tAdjusted R-squared:  0.9814 \n",
              "F-statistic: 264.4 on 3 and 12 DF,  p-value: 3.189e-11\n"
            ]
          },
          "metadata": {}
        }
      ]
    },
    {
      "cell_type": "markdown",
      "source": [
        "The predictors now show greater significance with minor loss of prediction (R^2)."
      ],
      "metadata": {
        "id": "NQojmYWjhGV6"
      }
    },
    {
      "cell_type": "code",
      "source": [],
      "metadata": {
        "id": "HNC5znTM5yXE"
      },
      "execution_count": null,
      "outputs": []
    },
    {
      "cell_type": "code",
      "source": [],
      "metadata": {
        "id": "QA50irzxg8sC"
      },
      "execution_count": null,
      "outputs": []
    },
    {
      "cell_type": "code",
      "source": [],
      "metadata": {
        "id": "k2--UvsEg8kf"
      },
      "execution_count": null,
      "outputs": []
    },
    {
      "cell_type": "code",
      "source": [],
      "metadata": {
        "id": "L9MQRs57g8cb"
      },
      "execution_count": null,
      "outputs": []
    },
    {
      "cell_type": "code",
      "source": [],
      "metadata": {
        "id": "6l8E2V7Lg8R_"
      },
      "execution_count": null,
      "outputs": []
    }
  ]
}